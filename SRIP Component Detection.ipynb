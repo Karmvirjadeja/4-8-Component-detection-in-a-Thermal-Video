{
 "cells": [
  {
   "cell_type": "code",
   "execution_count": null,
   "id": "806bce99",
   "metadata": {},
   "outputs": [],
   "source": [
    "import cv2\n",
    "import numpy as np\n",
    "\n",
    "# Read the video\n",
    "cap = cv2.VideoCapture('./video.mp4')\n",
    "\n",
    "# Create background subtractor\n",
    "fgbg = cv2.createBackgroundSubtractorMOG2()\n",
    "\n",
    "while True:\n",
    "    ret, frame = cap.read()\n",
    "    if not ret:\n",
    "        break\n",
    "    \n",
    "    # Preprocess the frame\n",
    "    gray = cv2.cvtColor(frame, cv2.COLOR_BGR2GRAY)\n",
    "    \n",
    "    # Apply background subtraction\n",
    "    fgmask = fgbg.apply(gray)\n",
    "    \n",
    "    # Threshold the image\n",
    "    thresh = cv2.threshold(fgmask, 200, 255, cv2.THRESH_BINARY)[1]\n",
    "    \n",
    "    # Find contours\n",
    "    contours, _ = cv2.findContours(thresh, cv2.RETR_EXTERNAL, cv2.CHAIN_APPROX_SIMPLE)\n",
    "    \n",
    "    for contour in contours:\n",
    "        # Calculate contour area\n",
    "        area = cv2.contourArea(contour)\n",
    "        \n",
    "        # Set a threshold for contour area to filter out small detections\n",
    "        if area > 1000:\n",
    "            # Draw bounding box around the contour\n",
    "            x, y, w, h = cv2.boundingRect(contour)\n",
    "            cv2.rectangle(frame, (x, y), (x + w, y + h), (255, 0, 0), 2)  # Change thickness to -1 for filling the rectangle\n",
    "\n",
    "            # Draw 4-connected rectangle\n",
    "            cv2.rectangle(frame, (x, y), (x + w, y + h), (0, 255, 0), 1)\n",
    "            # Draw 8-connected rectangle\n",
    "            cv2.rectangle(frame, (x-1, y-1), (x + w+1, y + h+1), (0, 0, 255), 1)\n",
    "            \n",
    "            # Optionally, you can also analyze temperature within the bounding box\n",
    "            # You'll need to access the thermal data and analyze it within the bounding box\n",
    "            \n",
    "            # Optionally, you can also analyze sound patterns if you have access to the audio\n",
    "        \n",
    "    cv2.imshow('Frame', frame)\n",
    "    cv2.imshow('FG Mask', fgmask)\n",
    "    cv2.imshow('Thresh', thresh)\n",
    "    \n",
    "    if cv2.waitKey(30) & 0xFF == ord('q'):\n",
    "        break\n",
    "\n",
    "cap.release()\n",
    "cv2.destroyAllWindows()\n"
   ]
  },
  {
   "cell_type": "markdown",
   "id": "2e2f7e15",
   "metadata": {},
   "source": [
    "\n"
   ]
  },
  {
   "cell_type": "code",
   "execution_count": null,
   "id": "b7293ce0",
   "metadata": {},
   "outputs": [],
   "source": []
  },
  {
   "cell_type": "code",
   "execution_count": null,
   "id": "8e554aef",
   "metadata": {},
   "outputs": [],
   "source": []
  },
  {
   "cell_type": "markdown",
   "id": "bbf8c077",
   "metadata": {},
   "source": [
    " "
   ]
  },
  {
   "cell_type": "code",
   "execution_count": null,
   "id": "31f27605",
   "metadata": {},
   "outputs": [],
   "source": []
  },
  {
   "cell_type": "code",
   "execution_count": null,
   "id": "374ba6cb",
   "metadata": {},
   "outputs": [],
   "source": []
  },
  {
   "cell_type": "code",
   "execution_count": null,
   "id": "35297f8e",
   "metadata": {},
   "outputs": [],
   "source": []
  },
  {
   "cell_type": "code",
   "execution_count": null,
   "id": "6f65aa7b",
   "metadata": {},
   "outputs": [],
   "source": []
  },
  {
   "cell_type": "code",
   "execution_count": null,
   "id": "052cb06c",
   "metadata": {},
   "outputs": [],
   "source": []
  }
 ],
 "metadata": {
  "kernelspec": {
   "display_name": "Python 3 (ipykernel)",
   "language": "python",
   "name": "python3"
  },
  "language_info": {
   "codemirror_mode": {
    "name": "ipython",
    "version": 3
   },
   "file_extension": ".py",
   "mimetype": "text/x-python",
   "name": "python",
   "nbconvert_exporter": "python",
   "pygments_lexer": "ipython3",
   "version": "3.10.11"
  }
 },
 "nbformat": 4,
 "nbformat_minor": 5
}
